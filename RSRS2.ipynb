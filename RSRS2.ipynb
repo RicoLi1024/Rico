{
 "cells": [
  {
   "cell_type": "code",
   "execution_count": 11,
   "metadata": {},
   "outputs": [],
   "source": [
    "import pandas as pd\n",
    "import os\n",
    "import datetime\n",
    "import numpy as np \n",
    "import statsmodels.formula.api as sml\n",
    "import matplotlib.pyplot as plt\n",
    "import tushare as ts\n",
    "import scipy.stats as scs\n",
    "import matplotlib.mlab as mlab"
   ]
  },
  {
   "cell_type": "code",
   "execution_count": 20,
   "metadata": {},
   "outputs": [],
   "source": [
    "def getdata(dateStart,dateEnd,N,M):\n",
    "    HS300 = ts.get_k_data('000300', index=True,start = '{}'.format(dateStart),end = '{}'.format(dateEnd))\n",
    "    HS300=HS300[['date','high','low','open','close']]\n",
    "\n",
    "    # 斜率\n",
    "    HS300['beta'] = 0\n",
    "    HS300['R2'] = 0\n",
    "    for i in range(1,len(HS300)-1):\n",
    "        \n",
    "        df_ne=HS300.loc[ i- N+1:i ,:]\n",
    "        model = sml.ols(formula='high~low',data = df_ne)\n",
    "        result=model.fit()\n",
    "\n",
    "        HS300.loc[i+1,'beta'] = result.params[1]\n",
    "        HS300.loc[i+1,'R2'] = result.rsquared\n",
    "    # 日收益率 \n",
    "    HS300['ret'] = HS300.close.pct_change(1)\n",
    "    \n",
    "    # 标准分\n",
    "    HS300['beta_norm'] = (HS300['beta'] - HS300.beta.rolling(M).mean().shift(1))/HS300.beta.rolling(M).std().shift(1)\n",
    "    for i in range(M):\n",
    "        HS300.loc[i,'beta_norm'] = (HS300.loc[i,'beta'] - HS300.loc[:i-1,'beta'].mean())/HS300.loc[:i-1,'beta'].std() \n",
    "    HS300.loc[2,'beta_norm'] = 0\n",
    "    HS300['RSRS_R2'] = HS300.beta_norm*HS300.R2\n",
    "    HS300 = HS300.fillna(0)\n",
    "    \n",
    "    # 右偏标准分\n",
    "    HS300['beta_right'] = HS300.RSRS_R2*HS300.beta\n",
    "    return(HS300)"
   ]
  },
  {
   "cell_type": "code",
   "execution_count": 24,
   "metadata": {},
   "outputs": [
    {
     "name": "stderr",
     "output_type": "stream",
     "text": [
      "C:\\Users\\Rico Li\\Anaconda3\\lib\\site-packages\\ipykernel_launcher.py:22: RuntimeWarning: divide by zero encountered in double_scalars\n"
     ]
    },
    {
     "data": {
      "text/html": [
       "<div>\n",
       "<style scoped>\n",
       "    .dataframe tbody tr th:only-of-type {\n",
       "        vertical-align: middle;\n",
       "    }\n",
       "\n",
       "    .dataframe tbody tr th {\n",
       "        vertical-align: top;\n",
       "    }\n",
       "\n",
       "    .dataframe thead th {\n",
       "        text-align: right;\n",
       "    }\n",
       "</style>\n",
       "<table border=\"1\" class=\"dataframe\">\n",
       "  <thead>\n",
       "    <tr style=\"text-align: right;\">\n",
       "      <th></th>\n",
       "      <th>date</th>\n",
       "      <th>high</th>\n",
       "      <th>low</th>\n",
       "      <th>open</th>\n",
       "      <th>close</th>\n",
       "      <th>beta</th>\n",
       "      <th>R2</th>\n",
       "      <th>ret</th>\n",
       "      <th>beta_norm</th>\n",
       "      <th>RSRS_R2</th>\n",
       "      <th>beta_right</th>\n",
       "    </tr>\n",
       "  </thead>\n",
       "  <tbody>\n",
       "    <tr>\n",
       "      <th>0</th>\n",
       "      <td>2005-04-08</td>\n",
       "      <td>1003.70</td>\n",
       "      <td>979.53</td>\n",
       "      <td>984.66</td>\n",
       "      <td>1003.45</td>\n",
       "      <td>0.000000</td>\n",
       "      <td>0.000000</td>\n",
       "      <td>0.000000</td>\n",
       "      <td>0.000000</td>\n",
       "      <td>0.000000</td>\n",
       "      <td>0.000000</td>\n",
       "    </tr>\n",
       "    <tr>\n",
       "      <th>1</th>\n",
       "      <td>2005-04-11</td>\n",
       "      <td>1008.73</td>\n",
       "      <td>992.77</td>\n",
       "      <td>1003.88</td>\n",
       "      <td>995.42</td>\n",
       "      <td>0.000000</td>\n",
       "      <td>0.000000</td>\n",
       "      <td>-0.008002</td>\n",
       "      <td>0.000000</td>\n",
       "      <td>0.000000</td>\n",
       "      <td>0.000000</td>\n",
       "    </tr>\n",
       "    <tr>\n",
       "      <th>2</th>\n",
       "      <td>2005-04-12</td>\n",
       "      <td>993.71</td>\n",
       "      <td>978.20</td>\n",
       "      <td>993.71</td>\n",
       "      <td>978.70</td>\n",
       "      <td>0.379909</td>\n",
       "      <td>1.000000</td>\n",
       "      <td>-0.016797</td>\n",
       "      <td>0.000000</td>\n",
       "      <td>0.000000</td>\n",
       "      <td>0.000000</td>\n",
       "    </tr>\n",
       "    <tr>\n",
       "      <th>3</th>\n",
       "      <td>2005-04-13</td>\n",
       "      <td>1006.50</td>\n",
       "      <td>987.95</td>\n",
       "      <td>987.95</td>\n",
       "      <td>1000.90</td>\n",
       "      <td>0.767238</td>\n",
       "      <td>0.653529</td>\n",
       "      <td>0.022683</td>\n",
       "      <td>2.920578</td>\n",
       "      <td>1.908682</td>\n",
       "      <td>1.464414</td>\n",
       "    </tr>\n",
       "    <tr>\n",
       "      <th>4</th>\n",
       "      <td>2005-04-14</td>\n",
       "      <td>1006.42</td>\n",
       "      <td>985.58</td>\n",
       "      <td>1004.64</td>\n",
       "      <td>986.97</td>\n",
       "      <td>0.791216</td>\n",
       "      <td>0.687122</td>\n",
       "      <td>-0.013917</td>\n",
       "      <td>1.374583</td>\n",
       "      <td>0.944507</td>\n",
       "      <td>0.747309</td>\n",
       "    </tr>\n",
       "  </tbody>\n",
       "</table>\n",
       "</div>"
      ],
      "text/plain": [
       "         date     high     low     open    close      beta        R2  \\\n",
       "0  2005-04-08  1003.70  979.53   984.66  1003.45  0.000000  0.000000   \n",
       "1  2005-04-11  1008.73  992.77  1003.88   995.42  0.000000  0.000000   \n",
       "2  2005-04-12   993.71  978.20   993.71   978.70  0.379909  1.000000   \n",
       "3  2005-04-13  1006.50  987.95   987.95  1000.90  0.767238  0.653529   \n",
       "4  2005-04-14  1006.42  985.58  1004.64   986.97  0.791216  0.687122   \n",
       "\n",
       "        ret  beta_norm   RSRS_R2  beta_right  \n",
       "0  0.000000   0.000000  0.000000    0.000000  \n",
       "1 -0.008002   0.000000  0.000000    0.000000  \n",
       "2 -0.016797   0.000000  0.000000    0.000000  \n",
       "3  0.022683   2.920578  1.908682    1.464414  \n",
       "4 -0.013917   1.374583  0.944507    0.747309  "
      ]
     },
     "execution_count": 24,
     "metadata": {},
     "output_type": "execute_result"
    }
   ],
   "source": [
    "dateStart = datetime.date(2005,3,1)\n",
    "dateEnd = datetime.date(2017,3,31)\n",
    "N = 18\n",
    "M = 600\n",
    "HS300 = getdata(dateStart,dateEnd,N,M)\n",
    "HS300.head()"
   ]
  },
  {
   "cell_type": "code",
   "execution_count": 27,
   "metadata": {},
   "outputs": [
    {
     "name": "stdout",
     "output_type": "stream",
     "text": [
      "            date     high      low     open    close      beta        R2  \\\n",
      "0     2005-04-18   970.91   958.65   970.91   963.77  1.214834  0.812732   \n",
      "1     2005-04-19   968.87   957.91   962.92   965.89  1.220131  0.923110   \n",
      "2     2005-04-20   964.15   946.20   964.15   950.87  1.239171  0.948865   \n",
      "3     2005-04-21   955.55   938.59   948.86   943.98  1.116104  0.946453   \n",
      "4     2005-04-22   947.91   934.96   942.91   939.10  1.068900  0.958165   \n",
      "5     2005-04-25   935.99   920.16   935.99   930.07  1.076768  0.969143   \n",
      "6     2005-04-26   939.70   924.66   928.43   937.08  1.053780  0.976973   \n",
      "7     2005-04-27   938.91   925.90   938.57   926.60  1.048926  0.980739   \n",
      "8     2005-04-28   945.50   914.83   923.53   942.07  1.053734  0.983110   \n",
      "9     2005-04-29   942.45   929.81   940.81   932.40  0.987062  0.962043   \n",
      "10    2005-05-09   937.39   909.17   934.65   909.17  0.996570  0.963129   \n",
      "11    2005-05-10   913.39   892.31   905.54   913.08  0.958750  0.957165   \n",
      "12    2005-05-11   917.22   900.44   911.84   901.85  0.953557  0.965034   \n",
      "13    2005-05-12   900.06   883.51   899.97   885.82  0.942374  0.970289   \n",
      "14    2005-05-13   898.51   875.58   883.51   887.54  0.948381  0.970682   \n",
      "15    2005-05-16   885.39   869.33   885.39   875.27  0.938485  0.972046   \n",
      "16    2005-05-17   888.28   868.21   873.08   881.46  0.938035  0.971682   \n",
      "17    2005-05-18   890.40   871.82   881.14   883.20  0.910624  0.972365   \n",
      "18    2005-05-19   888.02   871.29   882.84   884.17  0.924700  0.970780   \n",
      "19    2005-05-20   891.02   879.18   883.51   882.76  0.941627  0.969530   \n",
      "20    2005-05-23   880.28   862.10   880.28   863.34  0.974245  0.964524   \n",
      "21    2005-05-24   871.77   855.59   861.20   868.46  0.972625  0.962826   \n",
      "22    2005-05-25   876.30   861.66   867.66   868.45  0.982183  0.962439   \n",
      "23    2005-05-26   872.84   854.96   867.76   857.33  1.010243  0.962373   \n",
      "24    2005-05-27   864.96   848.40   855.59   849.51  1.017692  0.963679   \n",
      "25    2005-05-30   858.46   842.10   847.63   855.61  1.036297  0.965152   \n",
      "26    2005-05-31   863.20   853.29   856.56   855.95  1.072186  0.970109   \n",
      "27    2005-06-01   857.66   836.04   855.21   837.53  1.043288  0.971383   \n",
      "28    2005-06-02   835.49   812.99   835.47   818.38  1.080123  0.968535   \n",
      "29    2005-06-03   823.86   807.97   816.55   818.03  0.973388  0.973209   \n",
      "...          ...      ...      ...      ...      ...       ...       ...   \n",
      "2877  2017-02-20  3472.60  3421.64  3421.64  3471.39  0.987263  0.965304   \n",
      "2878  2017-02-21  3490.09  3472.02  3475.06  3482.82  1.058458  0.945530   \n",
      "2879  2017-02-22  3489.95  3473.52  3483.20  3489.76  1.007798  0.946789   \n",
      "2880  2017-02-23  3492.96  3460.12  3487.57  3473.32  0.994475  0.949010   \n",
      "2881  2017-02-24  3473.85  3455.25  3468.96  3473.85  1.006951  0.952132   \n",
      "2882  2017-02-27  3472.84  3441.39  3471.13  3446.22  0.977463  0.952199   \n",
      "2883  2017-02-28  3460.91  3441.36  3445.03  3452.81  0.969331  0.949950   \n",
      "2884  2017-03-01  3472.70  3449.11  3452.21  3458.44  0.950268  0.949980   \n",
      "2885  2017-03-02  3468.47  3434.00  3463.48  3435.10  0.950096  0.946342   \n",
      "2886  2017-03-03  3428.88  3412.83  3424.66  3427.86  0.934199  0.935001   \n",
      "2887  2017-03-06  3449.03  3425.90  3427.25  3446.48  0.903702  0.911091   \n",
      "2888  2017-03-07  3454.04  3440.06  3446.16  3453.96  0.921391  0.866120   \n",
      "2889  2017-03-08  3457.04  3441.26  3452.20  3448.73  0.890383  0.804305   \n",
      "2890  2017-03-09  3443.05  3414.68  3442.90  3426.94  0.853498  0.749904   \n",
      "2891  2017-03-10  3436.24  3423.94  3423.98  3427.89  0.836333  0.748624   \n",
      "2892  2017-03-13  3458.10  3412.69  3425.67  3458.10  0.845359  0.740314   \n",
      "2893  2017-03-14  3465.39  3448.90  3456.66  3456.69  0.792710  0.690897   \n",
      "2894  2017-03-15  3463.92  3445.27  3452.21  3463.64  0.759836  0.665763   \n",
      "2895  2017-03-16  3492.13  3472.27  3472.27  3481.51  0.782773  0.673593   \n",
      "2896  2017-03-17  3488.50  3441.47  3485.31  3445.81  0.867952  0.806676   \n",
      "2897  2017-03-20  3454.06  3429.83  3449.05  3449.61  0.873912  0.711156   \n",
      "2898  2017-03-21  3466.70  3445.64  3449.77  3466.35  0.903734  0.683053   \n",
      "2899  2017-03-22  3464.33  3433.50  3450.75  3450.05  0.841276  0.645793   \n",
      "2900  2017-03-23  3470.82  3435.69  3452.41  3461.98  0.848922  0.626889   \n",
      "2901  2017-03-24  3499.32  3461.11  3464.20  3489.60  0.837102  0.611452   \n",
      "2902  2017-03-27  3505.98  3474.52  3488.76  3478.04  0.938101  0.668743   \n",
      "2903  2017-03-28  3482.29  3461.47  3480.25  3469.81  0.992428  0.739151   \n",
      "2904  2017-03-29  3483.06  3455.55  3472.97  3465.19  0.981998  0.755240   \n",
      "2905  2017-03-30  3467.30  3422.37  3461.62  3436.76  0.933393  0.727613   \n",
      "2906  2017-03-31  3456.31  3430.82  3434.82  3456.05  0.858867  0.671831   \n",
      "\n",
      "           ret  beta_norm   RSRS_R2  beta_right  \n",
      "0    -0.010584   1.953299  1.587509    1.928560  \n",
      "1     0.002200   1.437687  1.327143    1.619289  \n",
      "2    -0.015550   1.230650  1.167720    1.447005  \n",
      "3    -0.007246   0.820488  0.776554    0.866715  \n",
      "4    -0.005170   0.656903  0.629422    0.672789  \n",
      "5    -0.009616   0.633100  0.613564    0.660666  \n",
      "6     0.007537   0.546928  0.534334    0.563070  \n",
      "7    -0.011184   0.509730  0.499913    0.524371  \n",
      "8     0.016695   0.499077  0.490647    0.517012  \n",
      "9    -0.010265   0.317835  0.305771    0.301815  \n",
      "10   -0.024914   0.331119  0.318910    0.317817  \n",
      "11    0.004301   0.223612  0.214033    0.205204  \n",
      "12   -0.012299   0.203639  0.196519    0.187392  \n",
      "13   -0.017775   0.167896  0.162908    0.153520  \n",
      "14    0.001942   0.180510  0.175218    0.166173  \n",
      "15   -0.013825   0.147934  0.143798    0.134952  \n",
      "16    0.007072   0.143304  0.139246    0.130617  \n",
      "17    0.001974   0.058097  0.056492    0.051443  \n",
      "18    0.001098   0.100046  0.097122    0.089809  \n",
      "19   -0.001595   0.151053  0.146450    0.137901  \n",
      "20   -0.021999   0.252283  0.243333    0.237066  \n",
      "21    0.005930   0.242180  0.233178    0.226794  \n",
      "22   -0.000012   0.269353  0.259236    0.254617  \n",
      "23   -0.012804   0.358939  0.345433    0.348971  \n",
      "24   -0.009121   0.377795  0.364073    0.370514  \n",
      "25    0.007181   0.435497  0.420321    0.435578  \n",
      "26    0.000397   0.553690  0.537140    0.575914  \n",
      "27   -0.021520   0.440206  0.427609    0.446119  \n",
      "28   -0.022865   0.565162  0.547379    0.591237  \n",
      "29   -0.000428   0.166640  0.162176    0.157860  \n",
      "...        ...        ...       ...         ...  \n",
      "2877  0.014599   0.716335  0.691480    0.682673  \n",
      "2878  0.003293   1.203444  1.137892    1.204411  \n",
      "2879  0.001993   0.851260  0.805963    0.812248  \n",
      "2880 -0.004711   0.756983  0.718385    0.714416  \n",
      "2881  0.000153   0.840820  0.800571    0.806136  \n",
      "2882 -0.007954   0.636648  0.606216    0.592554  \n",
      "2883  0.001912   0.580030  0.550999    0.534101  \n",
      "2884  0.001631   0.448827  0.426376    0.405172  \n",
      "2885 -0.006749   0.447487  0.423476    0.402343  \n",
      "2886 -0.002108   0.338165  0.316184    0.295379  \n",
      "2887  0.005432   0.129585  0.118064    0.106695  \n",
      "2888  0.002170   0.251918  0.218191    0.201039  \n",
      "2889 -0.001514   0.039781  0.031996    0.028489  \n",
      "2890 -0.006318  -0.212384 -0.159267   -0.135934  \n",
      "2891  0.000277  -0.328781 -0.246133   -0.205849  \n",
      "2892  0.008813  -0.265115 -0.196269   -0.165917  \n",
      "2893 -0.000408  -0.625524 -0.432172   -0.342587  \n",
      "2894  0.002011  -0.849343 -0.565461   -0.429657  \n",
      "2895  0.005159  -0.689034 -0.464128   -0.363307  \n",
      "2896 -0.010254  -0.101642 -0.081992   -0.071165  \n",
      "2897  0.001103  -0.060338 -0.042909   -0.037499  \n",
      "2898  0.004853   0.143321  0.097896    0.088472  \n",
      "2899 -0.004702  -0.288955 -0.186605   -0.156987  \n",
      "2900  0.003458  -0.239053 -0.149860   -0.127219  \n",
      "2901  0.007978  -0.322712 -0.197323   -0.165179  \n",
      "2902 -0.003313   0.374457  0.250416    0.234915  \n",
      "2903 -0.002366   0.748509  0.553262    0.549072  \n",
      "2904 -0.001331   0.674020  0.509046    0.499882  \n",
      "2905 -0.008204   0.335861  0.244377    0.228100  \n",
      "2906  0.005613  -0.180812 -0.121475   -0.104331  \n",
      "\n",
      "[2907 rows x 11 columns]\n"
     ]
    }
   ],
   "source": [
    "HS300 = HS300.loc[2:]\n",
    "HS300 =HS300.reset_index(drop = True)\n",
    "HS300.head()\n",
    "print(HS300)\n"
   ]
  },
  {
   "cell_type": "code",
   "execution_count": 10,
   "metadata": {},
   "outputs": [
    {
     "name": "stderr",
     "output_type": "stream",
     "text": [
      "C:\\Users\\Rico Li\\Anaconda3\\lib\\site-packages\\matplotlib\\axes\\_axes.py:6462: UserWarning: The 'normed' kwarg is deprecated, and has been replaced by the 'density' kwarg.\n",
      "  warnings.warn(\"The 'normed' kwarg is deprecated, and has been \"\n"
     ]
    },
    {
     "data": {
      "image/png": "[encoded data removed]",
      "text/plain": [
       "<Figure size 1080x360 with 1 Axes>"
      ]
     },
     "metadata": {},
     "output_type": "display_data"
    }
   ],
   "source": [
    "plt.figure(figsize=(15,5))\n",
    "plt.hist(HS300['beta'], bins= 100, range= None, normed= False, weights= None, cumulative= False, \n",
    "         bottom= None, histtype= 'bar', align= 'mid', orientation= 'vertical', rwidth= None, log= False, color= 'r', \n",
    "         label='直方图', stacked= False)\n",
    "plt.show()"
   ]
  },
  {
   "cell_type": "code",
   "execution_count": 5,
   "metadata": {
    "scrolled": true
   },
   "outputs": [
    {
     "name": "stderr",
     "output_type": "stream",
     "text": [
      "C:\\Users\\Rico Li\\Anaconda3\\lib\\site-packages\\matplotlib\\axes\\_axes.py:6462: UserWarning: The 'normed' kwarg is deprecated, and has been replaced by the 'density' kwarg.\n",
      "  warnings.warn(\"The 'normed' kwarg is deprecated, and has been \"\n"
     ]
    },
    {
     "data": {
      "image/png": "[encoded data removed]",
      "text/plain": [
       "<Figure size 1080x360 with 1 Axes>"
      ]
     },
     "metadata": {},
     "output_type": "display_data"
    },
    {
     "name": "stderr",
     "output_type": "stream",
     "text": [
      "C:\\Users\\Rico Li\\Anaconda3\\lib\\site-packages\\matplotlib\\axes\\_axes.py:6462: UserWarning: The 'normed' kwarg is deprecated, and has been replaced by the 'density' kwarg.\n",
      "  warnings.warn(\"The 'normed' kwarg is deprecated, and has been \"\n"
     ]
    },
    {
     "data": {
      "image/png": "[encoded data removed]",
      "text/plain": [
       "<Figure size 1080x360 with 1 Axes>"
      ]
     },
     "metadata": {},
     "output_type": "display_data"
    }
   ],
   "source": [
    "plt.figure(figsize=(15,5))\n",
    "plt.hist(HS300['beta_norm'], bins= 100, range= None, normed= False, weights= None, cumulative= False, \n",
    "         bottom= None, histtype= 'bar', align= 'mid', orientation= 'vertical', rwidth= None, log= False, color= 'r', \n",
    "         label='直方图', stacked= False)\n",
    "plt.show()\n",
    "\n",
    "plt.figure(figsize=(15,5))\n",
    "plt.hist(HS300['RSRS_R2'], bins= 100, range= None, normed= False, weights= None, cumulative= False, \n",
    "         bottom= None, histtype= 'bar', align= 'mid', orientation= 'vertical', rwidth= None, log= False, color= 'r', \n",
    "         label='直方图', stacked= False)\n",
    "plt.show()\n"
   ]
  },
  {
   "cell_type": "code",
   "execution_count": 6,
   "metadata": {},
   "outputs": [
    {
     "name": "stdout",
     "output_type": "stream",
     "text": [
      "斜率的均值:0.9028145098167284\n",
      "斜率的标准差:0.12005415361416674\n",
      "斜率的偏度:-0.7317857596172357\n",
      "斜率的峰度:2.9155993008088927\n",
      "\n",
      "斜率标准分的均值:-0.045590599650641106\n",
      "斜率标准分的标准差:1.0058966499603323\n",
      "斜率标准分的偏度:-0.521334571387076\n",
      "斜率标准分的峰度:1.4226164107285708\n",
      "\n",
      "斜率标准分的均值:0.024988941121804015\n",
      "斜率标准分的标准差:0.804966101762193\n",
      "斜率标准分的偏度:0.10432661427751183\n",
      "斜率标准分的峰度:0.46359849059171676\n"
     ]
    }
   ],
   "source": [
    "sta = scs.describe(HS300.beta)\n",
    "stew = sta[4]\n",
    "kurtosis = sta[5]\n",
    "\n",
    "sta1 = scs.describe(HS300.beta_norm)\n",
    "stew1 = sta1[4]\n",
    "kurtosis1 = sta1[5]\n",
    "\n",
    "sta2 = scs.describe(HS300.RSRS_R2)\n",
    "stew2 = sta2[4]\n",
    "kurtosis2 = sta2[5]\n",
    "\n",
    "print('斜率的均值:%s' % (HS300['beta'].mean()))\n",
    "print('斜率的标准差:%s' % (HS300['beta'].std()))\n",
    "print('斜率的偏度:%s' % (stew))\n",
    "print('斜率的峰度:%s' % (kurtosis))\n",
    "print('')\n",
    "print('斜率标准分的均值:%s' % (HS300['beta_norm'].mean()))\n",
    "print('斜率标准分的标准差:%s' % (HS300['beta_norm'].std()))\n",
    "print('斜率标准分的偏度:%s' % (stew1))\n",
    "print('斜率标准分的峰度:%s' % (kurtosis1))\n",
    "print('')\n",
    "print('斜率标准分的均值:%s' % (HS300['RSRS_R2'].mean()))\n",
    "print('斜率标准分的标准差:%s' % (HS300['RSRS_R2'].std()))\n",
    "print('斜率标准分的偏度:%s' % (stew2))\n",
    "print('斜率标准分的峰度:%s' % (kurtosis2))\n"
   ]
  },
  {
   "cell_type": "code",
   "execution_count": 28,
   "metadata": {},
   "outputs": [],
   "source": [
    "HS300['beta_mean'] = HS300.beta.rolling(250).mean().shift(1)\n",
    "for i in range(250):\n",
    "    HS300.loc[i,'beta_mean'] = HS300.loc[:i-1,'beta'].mean()"
   ]
  },
  {
   "cell_type": "code",
   "execution_count": 8,
   "metadata": {},
   "outputs": [
    {
     "data": {
      "image/png": "[encoded data removed]",
      "text/plain": [
       "<Figure size 1080x216 with 1 Axes>"
      ]
     },
     "metadata": {},
     "output_type": "display_data"
    }
   ],
   "source": [
    "result = HS300.loc[10:].copy()\n",
    "result = result.reset_index(drop = True)\n",
    "xtick = np.arange(0,result.shape[0],int(result.shape[0]/7))\n",
    "xticklabel = pd.Series(result.date[xtick])\n",
    "plt.figure(figsize=(15,3))\n",
    "fig = plt.axes()\n",
    "plt.plot(np.arange(result.shape[0]),result.beta_mean,linewidth = 3,color = 'black')\n",
    "\n",
    "fig.set_xticks(xtick)\n",
    "fig.set_xticklabels(xticklabel,rotation = 45)\n",
    "plt.legend()\n",
    "plt.show()\n"
   ]
  },
  {
   "cell_type": "code",
   "execution_count": 37,
   "metadata": {},
   "outputs": [],
   "source": [
    "def RSRS1(HS300,S1 = 1.0,S2 = 0.8):\n",
    "    data  = HS300.copy()\n",
    "    data['flag'] = 0 # 买卖标记\n",
    "    data['position'] = 0 # 持仓标记\n",
    "    position = 0 # 是否持仓，持仓：1，不持仓：0\n",
    "    for i in range(1,data.shape[0]-1):\n",
    "        \n",
    "        # 开仓\n",
    "        if data.loc[i,'beta']>S1 and position ==0:\n",
    "            data.loc[i,'flag'] = 1\n",
    "            data.loc[i+1,'position'] = 1\n",
    "            position = 1\n",
    "        # 平仓\n",
    "        elif data.loc[i,'beta']<S2 and position ==1: \n",
    "            data.loc[i,'flag'] = -1\n",
    "            data.loc[i+1,'position'] = 0     \n",
    "            position = 0\n",
    "        \n",
    "        # 保持\n",
    "        else:\n",
    "            data.loc[i+1,'position'] = data.loc[i,'position']     \n",
    "        \n",
    "    data['nav'] = (1+data.close.pct_change(1).fillna(0)*data.position).cumprod() \n",
    "        \n",
    "    return(data)\n"
   ]
  },
  {
   "cell_type": "code",
   "execution_count": 30,
   "metadata": {},
   "outputs": [],
   "source": [
    "def RSRS2(HS300,S = 0.7):\n",
    "    data = HS300.copy()\n",
    "    data['flag'] = 0 # 买卖标记\n",
    "    data['position'] = 0 # 持仓标记\n",
    "    position = 0 # 是否持仓，持仓：1，不持仓：0\n",
    "    for i in range(1,data.shape[0]-1):\n",
    "        \n",
    "        # 开仓\n",
    "        if data.loc[i,'beta_norm']>S and position ==0:\n",
    "            data.loc[i,'flag'] = 1\n",
    "            data.loc[i+1,'position'] = 1\n",
    "            position = 1\n",
    "        # 平仓\n",
    "        elif data.loc[i,'beta_norm']<-S and position ==1: \n",
    "            data.loc[i,'flag'] = -1\n",
    "            data.loc[i+1,'position'] = 0     \n",
    "            position = 0\n",
    "        \n",
    "        # 保持\n",
    "        else:\n",
    "            data.loc[i+1,'position'] = data.loc[i,'position']     \n",
    "        \n",
    "    data['nav'] = (1+data.close.pct_change(1).fillna(0)*data.position).cumprod() \n",
    "           \n",
    "    return(data)\n"
   ]
  },
  {
   "cell_type": "code",
   "execution_count": 31,
   "metadata": {},
   "outputs": [],
   "source": [
    "def RSRS3(HS300,S = 0.7):\n",
    "    data = HS300.copy()\n",
    "    data['flag'] = 0 # 买卖标记\n",
    "    data['position'] = 0 # 持仓标记\n",
    "    position = 0 # 是否持仓，持仓：1，不持仓：0\n",
    "    for i in range(1,data.shape[0]-1):\n",
    "        \n",
    "        # 开仓\n",
    "        if data.loc[i,'RSRS_R2']>S and position ==0:\n",
    "            data.loc[i,'flag'] = 1\n",
    "            data.loc[i+1,'position'] = 1\n",
    "            position = 1\n",
    "        # 平仓\n",
    "        elif data.loc[i,'RSRS_R2']<-S and position ==1: \n",
    "            data.loc[i,'flag'] = -1\n",
    "            data.loc[i+1,'position'] = 0     \n",
    "            position = 0\n",
    "        \n",
    "        # 保持\n",
    "        else:\n",
    "            data.loc[i+1,'position'] = data.loc[i,'position']     \n",
    "        \n",
    "    data['nav'] = (1+data.close.pct_change(1).fillna(0)*data.position).cumprod() \n",
    "           \n",
    "    return(data)\n",
    "            \n"
   ]
  },
  {
   "cell_type": "code",
   "execution_count": null,
   "metadata": {},
   "outputs": [],
   "source": [
    "def RSRS4(HS300,S = 0.7):\n",
    "    data = HS300.copy()\n",
    "    data['flag'] = 0 # 买卖标记\n",
    "    data['position'] = 0 # 持仓标记\n",
    "    position = 0 # 是否持仓，持仓：1，不持仓：0\n",
    "    for i in range(1,data.shape[0]-1):\n",
    "        \n",
    "        # 开仓\n",
    "        if data.loc[i,'beta_right']>S and position ==0:\n",
    "            data.loc[i,'flag'] = 1\n",
    "            data.loc[i+1,'position'] = 1\n",
    "            position = 1\n",
    "        # 平仓\n",
    "        elif data.loc[i,'beta_right']<-S and position ==1: \n",
    "            data.loc[i,'flag'] = -1\n",
    "            data.loc[i+1,'position'] = 0     \n",
    "            position = 0\n",
    "        \n",
    "        # 保持\n",
    "        else:\n",
    "            data.loc[i+1,'position'] = data.loc[i,'position']     \n",
    "        \n",
    "    data['nav'] = (1+data.close.pct_change(1).fillna(0)*data.position).cumprod() \n",
    "           \n",
    "    return(data)"
   ]
  },
  {
   "cell_type": "code",
   "execution_count": 36,
   "metadata": {},
   "outputs": [
    {
     "name": "stdout",
     "output_type": "stream",
     "text": [
      "交易次数 =  45.0\n",
      "策略净值为=  10.575706431363471\n"
     ]
    }
   ],
   "source": [
    "result = RSRS1(HS300)\n",
    "num = result.flag.abs().sum()/2\n",
    "nav = result.nav[result.shape[0]-1]\n",
    "\n",
    "print('交易次数 = ',num)\n",
    "print('策略净值为= ',nav)"
   ]
  },
  {
   "cell_type": "code",
   "execution_count": 33,
   "metadata": {},
   "outputs": [
    {
     "data": {
      "image/png": "[encoded data removed]",
      "text/plain": [
       "<Figure size 1080x216 with 1 Axes>"
      ]
     },
     "metadata": {},
     "output_type": "display_data"
    }
   ],
   "source": [
    "xtick = np.arange(0,result.shape[0],int(result.shape[0]/7))\n",
    "xticklabel = pd.Series(result.date[xtick])\n",
    "plt.figure(figsize=(15,3))\n",
    "fig = plt.axes()\n",
    "plt.plot(np.arange(result.shape[0]),result.nav,label = 'RSRS1',linewidth = 2,color = 'red')\n",
    "plt.plot(np.arange(result.shape[0]),result.close/result.close[0],color = 'yellow',label = 'HS300',linewidth = 2)\n",
    "\n",
    "fig.set_xticks(xtick)\n",
    "fig.set_xticklabels(xticklabel,rotation = 45)\n",
    "plt.legend()\n",
    "plt.show()\n"
   ]
  },
  {
   "cell_type": "code",
   "execution_count": null,
   "metadata": {},
   "outputs": [],
   "source": [
    "result2 = RSRS2(HS300)\n",
    "num = result2.flag.abs().sum()/2\n",
    "nav = result2.nav[result.shape[0]-1]\n",
    "ret_year = (nav - 1)\n",
    "print('交易次数 = ',num)\n",
    "print('策略净值为= ',nav)"
   ]
  },
  {
   "cell_type": "code",
   "execution_count": null,
   "metadata": {},
   "outputs": [],
   "source": [
    "result3 = RSRS3(HS300)\n",
    "num = result3.flag.abs().sum()/2\n",
    "nav = result3.nav[result.shape[0]-1]\n",
    "ret_year = (nav - 1)\n",
    "print('交易次数 = ',num)\n",
    "print('策略净值为= ',nav)"
   ]
  },
  {
   "cell_type": "code",
   "execution_count": null,
   "metadata": {},
   "outputs": [],
   "source": [
    "dateStart = datetime.date(2005,3,1)\n",
    "dateEnd = datetime.date(2017,3,31)\n",
    "N = 16\n",
    "M = 300\n",
    "HS300 = getdata(dateStart,dateEnd,N,M)\n",
    "HS300 = HS300.loc[2:]\n",
    "HS300 =HS300.reset_index(drop = True)"
   ]
  },
  {
   "cell_type": "code",
   "execution_count": null,
   "metadata": {},
   "outputs": [],
   "source": [
    "result4 = RSRS4(HS300)\n",
    "num = result4.flag.abs().sum()/2\n",
    "nav = result4.nav[result.shape[0]-1]\n",
    "ret_year = (nav - 1)\n",
    "print('交易次数 = ',num)\n",
    "print('策略净值为= ',nav)"
   ]
  },
  {
   "cell_type": "code",
   "execution_count": null,
   "metadata": {},
   "outputs": [],
   "source": [
    "xtick = np.arange(0,result.shape[0],int(result.shape[0]/7))\n",
    "xticklabel = pd.Series(result.date[xtick])\n",
    "plt.figure(figsize=(15,3))\n",
    "fig = plt.axes()\n",
    "plt.plot(np.arange(result.shape[0]),result.nav,label = 'RSRS1',linewidth = 2)\n",
    "plt.plot(np.arange(result.shape[0]),result2.nav,label = 'RSRS2',linewidth = 2)\n",
    "plt.plot(np.arange(result.shape[0]),result3.nav,label = 'RSRS3',linewidth = 2)\n",
    "plt.plot(np.arange(result.shape[0]),result4.nav,label = 'RSRS4',linewidth = 2)\n",
    "plt.plot(np.arange(result.shape[0]),result.close/result.close[0],color = 'yellow',label = 'HS300',linewidth = 2)\n",
    "\n",
    "fig.set_xticks(xtick)\n",
    "fig.set_xticklabels(xticklabel,rotation = 45)\n",
    "plt.legend()\n",
    "plt.show()"
   ]
  },
  {
   "cell_type": "code",
   "execution_count": null,
   "metadata": {},
   "outputs": [],
   "source": [
    "dateStart = datetime.date(2005,3,1)\n",
    "dateEnd = datetime.date(2018,8,30)\n",
    "N = 18\n",
    "M = 600\n",
    "HS300 = getdata(dateStart,dateEnd,N,M)\n",
    "HS300 = HS300.loc[2:]\n",
    "HS300 =HS300.reset_index(drop = True)\n",
    "HS300.head()\n"
   ]
  },
  {
   "cell_type": "code",
   "execution_count": null,
   "metadata": {},
   "outputs": [],
   "source": [
    "result = RSRS1(HS300)\n",
    "num = result.flag.abs().sum()/2\n",
    "nav = result.nav[result.shape[0]-1]\n",
    "\n",
    "print('交易次数 = ',num)\n",
    "print('策略净值为= ',nav)\n"
   ]
  },
  {
   "cell_type": "code",
   "execution_count": null,
   "metadata": {},
   "outputs": [],
   "source": [
    "result2 = RSRS2(HS300)\n",
    "num = result2.flag.abs().sum()/2\n",
    "nav = result2.nav[result.shape[0]-1]\n",
    "ret_year = (nav - 1)\n",
    "print('交易次数 = ',num)\n",
    "print('策略净值为= ',nav)\n"
   ]
  },
  {
   "cell_type": "code",
   "execution_count": null,
   "metadata": {},
   "outputs": [],
   "source": [
    "result3 = RSRS3(HS300)\n",
    "num = result3.flag.abs().sum()/2\n",
    "nav = result3.nav[result.shape[0]-1]\n",
    "ret_year = (nav - 1)\n",
    "print('交易次数 = ',num)\n",
    "print('策略净值为= ',nav)"
   ]
  },
  {
   "cell_type": "code",
   "execution_count": null,
   "metadata": {},
   "outputs": [],
   "source": [
    "dateStart = datetime.date(2005,3,1)\n",
    "dateEnd = datetime.date(2018,8,30)\n",
    "N = 16\n",
    "M = 300\n",
    "HS300 = getdata(dateStart,dateEnd,N,M)\n",
    "HS300 = HS300.loc[2:]\n",
    "HS300 =HS300.reset_index(drop = True)\n",
    "HS300.head()"
   ]
  },
  {
   "cell_type": "code",
   "execution_count": null,
   "metadata": {},
   "outputs": [],
   "source": [
    "result4 = RSRS4(HS300)\n",
    "num = result4.flag.abs().sum()/2\n",
    "nav = result4.nav[result.shape[0]-1]\n",
    "ret_year = (nav - 1)\n",
    "print('交易次数 = ',num)\n",
    "print('策略净值为= ',nav)"
   ]
  },
  {
   "cell_type": "code",
   "execution_count": null,
   "metadata": {},
   "outputs": [],
   "source": [
    "xtick = np.arange(0,result.shape[0],int(result.shape[0]/7))\n",
    "xticklabel = pd.Series(result.date[xtick])\n",
    "plt.figure(figsize=(15,3))\n",
    "fig = plt.axes()\n",
    "plt.plot(np.arange(result.shape[0]),result.nav,label = 'RSRS1',linewidth = 2)\n",
    "plt.plot(np.arange(result.shape[0]),result2.nav,label = 'RSRS2',linewidth = 2)\n",
    "plt.plot(np.arange(result.shape[0]),result3.nav,label = 'RSRS3',linewidth = 2)\n",
    "plt.plot(np.arange(result.shape[0]),result4.nav,label = 'RSRS4',linewidth = 2)\n",
    "plt.plot(np.arange(result.shape[0]),result.close/result.close[0],color = 'yellow',label = 'HS300',linewidth = 2)\n",
    "\n",
    "fig.set_xticks(xtick)\n",
    "fig.set_xticklabels(xticklabel,rotation = 45)\n",
    "plt.legend()\n",
    "plt.show()\n"
   ]
  }
 ],
 "metadata": {
  "kernelspec": {
   "display_name": "Python 3",
   "language": "python",
   "name": "python3"
  },
  "language_info": {
   "codemirror_mode": {
    "name": "ipython",
    "version": 3
   },
   "file_extension": ".py",
   "mimetype": "text/x-python",
   "name": "python",
   "nbconvert_exporter": "python",
   "pygments_lexer": "ipython3",
   "version": "3.7.3"
  }
 },
 "nbformat": 4,
 "nbformat_minor": 2
}
